{
 "cells": [
  {
   "cell_type": "code",
   "execution_count": 1,
   "metadata": {
    "collapsed": true
   },
   "outputs": [],
   "source": [
    "import pandas as pd\n",
    "import quandl\n",
    "import matplotlib.pyplot as plt\n",
    "import json"
   ]
  },
  {
   "cell_type": "code",
   "execution_count": 2,
   "metadata": {},
   "outputs": [],
   "source": [
    "snp=quandl.get(\"YAHOO/INDEX_OEX\", authtoken=\"NiLCy_frruoznRS-R7hS\", start_date=\"2010-01-01\", end_date=\"2015-10-01\")\n",
    "nyse=quandl.get(\"YAHOO/INDEX_NYA\", authtoken=\"NiLCy_frruoznRS-R7hS\",start_date=\"2010-01-01\", end_date=\"2015-10-01\")\n",
    "djia=quandl.get(\"YAHOO/INDEX_DJI\", authtoken=\"NiLCy_frruoznRS-R7hS\", start_date=\"2010-01-01\", end_date=\"2015-10-01\")\n",
    "nikkei=quandl.get(\"YAHOO/INDEX_N225\", authtoken=\"NiLCy_frruoznRS-R7hS\", start_date=\"2010-01-01\", end_date=\"2015-10-01\")\n",
    "hangseng=quandl.get(\"YAHOO/INDEX_HSI\", authtoken=\"NiLCy_frruoznRS-R7hS\",start_date=\"2010-01-01\",end_date=\"2015-10-01\")\n",
    "ftse=quandl.get(\"YAHOO/L_CPI\", authtoken=\"NiLCy_frruoznRS-R7hS\",start_date=\"2010-01-01\", end_date=\"2015-10-01\")\n",
    "dax=quandl.get(\"YAHOO/INDEX_GDAXI\", authtoken=\"NiLCy_frruoznRS-R7hS\",start_date=\"2010-01-01\", end_date=\"2015-10-01\")\n",
    "aord=quandl.get(\"YAHOO/INDEX_AORD\", authtoken=\"NiLCy_frruoznRS-R7hS\",start_date=\"2010-01-01\",end_date=\"2015-10-01\")"
   ]
  },
  {
   "cell_type": "code",
   "execution_count": 32,
   "metadata": {},
   "outputs": [
    {
     "data": {
      "text/html": [
       "<div>\n",
       "<style>\n",
       "    .dataframe thead tr:only-child th {\n",
       "        text-align: right;\n",
       "    }\n",
       "\n",
       "    .dataframe thead th {\n",
       "        text-align: left;\n",
       "    }\n",
       "\n",
       "    .dataframe tbody tr th {\n",
       "        vertical-align: top;\n",
       "    }\n",
       "</style>\n",
       "<table border=\"1\" class=\"dataframe\">\n",
       "  <thead>\n",
       "    <tr style=\"text-align: right;\">\n",
       "      <th></th>\n",
       "      <th>dax_close</th>\n",
       "      <th>nikkei_close</th>\n",
       "      <th>ftse_close</th>\n",
       "      <th>hangseng_close</th>\n",
       "      <th>djia_close</th>\n",
       "      <th>aord_close</th>\n",
       "      <th>nyse_close</th>\n",
       "      <th>snp_close</th>\n",
       "    </tr>\n",
       "  </thead>\n",
       "  <tbody>\n",
       "    <tr>\n",
       "      <th>count</th>\n",
       "      <td>1470.000000</td>\n",
       "      <td>1470.000000</td>\n",
       "      <td>1470.000000</td>\n",
       "      <td>1470.000000</td>\n",
       "      <td>1470.000000</td>\n",
       "      <td>1470.000000</td>\n",
       "      <td>1470.000000</td>\n",
       "      <td>1470.000000</td>\n",
       "    </tr>\n",
       "    <tr>\n",
       "      <th>mean</th>\n",
       "      <td>7948.617068</td>\n",
       "      <td>12490.766741</td>\n",
       "      <td>886.841497</td>\n",
       "      <td>22230.338470</td>\n",
       "      <td>13989.120581</td>\n",
       "      <td>4908.622107</td>\n",
       "      <td>8904.841824</td>\n",
       "      <td>692.571421</td>\n",
       "    </tr>\n",
       "    <tr>\n",
       "      <th>std</th>\n",
       "      <td>1754.529036</td>\n",
       "      <td>3633.309376</td>\n",
       "      <td>200.342246</td>\n",
       "      <td>2023.681997</td>\n",
       "      <td>2517.305516</td>\n",
       "      <td>484.362423</td>\n",
       "      <td>1418.253573</td>\n",
       "      <td>143.351575</td>\n",
       "    </tr>\n",
       "    <tr>\n",
       "      <th>min</th>\n",
       "      <td>5072.330078</td>\n",
       "      <td>8160.009766</td>\n",
       "      <td>602.000000</td>\n",
       "      <td>16250.269531</td>\n",
       "      <td>9686.480469</td>\n",
       "      <td>3927.600098</td>\n",
       "      <td>6434.810059</td>\n",
       "      <td>463.839996</td>\n",
       "    </tr>\n",
       "    <tr>\n",
       "      <th>25%</th>\n",
       "      <td>6446.547729</td>\n",
       "      <td>9459.717529</td>\n",
       "      <td>722.000000</td>\n",
       "      <td>20840.027832</td>\n",
       "      <td>11981.199707</td>\n",
       "      <td>4494.949951</td>\n",
       "      <td>7648.997436</td>\n",
       "      <td>569.995011</td>\n",
       "    </tr>\n",
       "    <tr>\n",
       "      <th>50%</th>\n",
       "      <td>7416.869873</td>\n",
       "      <td>10747.205078</td>\n",
       "      <td>785.750000</td>\n",
       "      <td>22414.094726</td>\n",
       "      <td>13266.530273</td>\n",
       "      <td>4897.099853</td>\n",
       "      <td>8428.020019</td>\n",
       "      <td>652.664978</td>\n",
       "    </tr>\n",
       "    <tr>\n",
       "      <th>75%</th>\n",
       "      <td>9401.544922</td>\n",
       "      <td>15137.277588</td>\n",
       "      <td>1076.000000</td>\n",
       "      <td>23428.501953</td>\n",
       "      <td>16374.647217</td>\n",
       "      <td>5331.975097</td>\n",
       "      <td>10358.980225</td>\n",
       "      <td>828.492508</td>\n",
       "    </tr>\n",
       "    <tr>\n",
       "      <th>max</th>\n",
       "      <td>12374.730469</td>\n",
       "      <td>20868.029297</td>\n",
       "      <td>1326.000000</td>\n",
       "      <td>28442.750000</td>\n",
       "      <td>18312.390625</td>\n",
       "      <td>5954.799805</td>\n",
       "      <td>11239.660156</td>\n",
       "      <td>945.609985</td>\n",
       "    </tr>\n",
       "  </tbody>\n",
       "</table>\n",
       "</div>"
      ],
      "text/plain": [
       "          dax_close  nikkei_close   ftse_close  hangseng_close    djia_close  \\\n",
       "count   1470.000000   1470.000000  1470.000000     1470.000000   1470.000000   \n",
       "mean    7948.617068  12490.766741   886.841497    22230.338470  13989.120581   \n",
       "std     1754.529036   3633.309376   200.342246     2023.681997   2517.305516   \n",
       "min     5072.330078   8160.009766   602.000000    16250.269531   9686.480469   \n",
       "25%     6446.547729   9459.717529   722.000000    20840.027832  11981.199707   \n",
       "50%     7416.869873  10747.205078   785.750000    22414.094726  13266.530273   \n",
       "75%     9401.544922  15137.277588  1076.000000    23428.501953  16374.647217   \n",
       "max    12374.730469  20868.029297  1326.000000    28442.750000  18312.390625   \n",
       "\n",
       "        aord_close    nyse_close    snp_close  \n",
       "count  1470.000000   1470.000000  1470.000000  \n",
       "mean   4908.622107   8904.841824   692.571421  \n",
       "std     484.362423   1418.253573   143.351575  \n",
       "min    3927.600098   6434.810059   463.839996  \n",
       "25%    4494.949951   7648.997436   569.995011  \n",
       "50%    4897.099853   8428.020019   652.664978  \n",
       "75%    5331.975097  10358.980225   828.492508  \n",
       "max    5954.799805  11239.660156   945.609985  "
      ]
     },
     "execution_count": 32,
     "metadata": {},
     "output_type": "execute_result"
    }
   ],
   "source": [
    "# USE THE BELOW CODE TO MODIFY THE JSON FILE\n",
    "# config_json={\"1\":\"snp_close\",\"2\":\"nyse_close\", \"3\":\"djia_close\", \"4\":\"nikkei_close\", \n",
    "#              \"5\":\"hangseng_close\", \"6\":\"ftse_close\", \"7\":\"dax_close\", \"8\":\"aord_close\"}\n",
    "# config_json_json=json.dumps(config_json)\n",
    "# with open('./config_json', 'w') as outfile:  \n",
    "#     json.dump(config_json_json, outfile)\n",
    "\n",
    "# Opening json file\n",
    "with open('./config_json') as json_file:  \n",
    "    config_json = json.load(json_file)\n",
    "stock_market_dict={\"snp_close\":snp,\"nyse_close\":nyse,\"djia_close\":djia,\"nikkei_close\":nikkei,\"hangseng_close\":hangseng,\n",
    "                       \"ftse_close\":ftse,\"dax_close\":dax,\"aord_close\":aord}\n",
    "\n",
    "config_json=json.loads(config_json)\n",
    "closing_date=pd.DataFrame()\n",
    "for key,values in config_json.items():\n",
    "    closing_date[values]=stock_market_dict[values]['Close']\n",
    "\n",
    "closing_date = closing_date.fillna(method='ffill')\n",
    "closing_date.to_pickle('closing_date_dyanamic.pickle')\n",
    "closing_date.describe()"
   ]
  },
  {
   "cell_type": "code",
   "execution_count": 14,
   "metadata": {},
   "outputs": [],
   "source": [
    "config_json_json=json.dumps(config_json)\n",
    "with open('./config_json', 'w') as outfile:  \n",
    "    json.dump(config_json_json, outfile)"
   ]
  },
  {
   "cell_type": "code",
   "execution_count": 17,
   "metadata": {},
   "outputs": [],
   "source": [
    "with open('./config_json') as json_file:  \n",
    "    data = json.load(json_file)"
   ]
  },
  {
   "cell_type": "code",
   "execution_count": 28,
   "metadata": {},
   "outputs": [
    {
     "ename": "AttributeError",
     "evalue": "type object 'dict' has no attribute 'iteritems'",
     "output_type": "error",
     "traceback": [
      "\u001b[0;31m---------------------------------------------------------------------------\u001b[0m",
      "\u001b[0;31mAttributeError\u001b[0m                            Traceback (most recent call last)",
      "\u001b[0;32m<ipython-input-28-d959fa7db621>\u001b[0m in \u001b[0;36m<module>\u001b[0;34m()\u001b[0m\n\u001b[0;32m----> 1\u001b[0;31m \u001b[0mdict\u001b[0m\u001b[0;34m.\u001b[0m\u001b[0miteritems\u001b[0m\u001b[0;34m(\u001b[0m\u001b[0mconfig_json\u001b[0m\u001b[0;34m)\u001b[0m\u001b[0;34m\u001b[0m\u001b[0m\n\u001b[0m",
      "\u001b[0;31mAttributeError\u001b[0m: type object 'dict' has no attribute 'iteritems'"
     ]
    }
   ],
   "source": [
    "dict.iteritems(config_json)"
   ]
  }
 ],
 "metadata": {
  "kernelspec": {
   "display_name": "Python 3",
   "language": "python",
   "name": "python3"
  },
  "language_info": {
   "codemirror_mode": {
    "name": "ipython",
    "version": 3
   },
   "file_extension": ".py",
   "mimetype": "text/x-python",
   "name": "python",
   "nbconvert_exporter": "python",
   "pygments_lexer": "ipython3",
   "version": "3.5.3"
  }
 },
 "nbformat": 4,
 "nbformat_minor": 2
}
